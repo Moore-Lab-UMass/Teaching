{
 "cells": [
  {
   "cell_type": "markdown",
   "metadata": {
    "id": "0oTIyPTwFx1o"
   },
   "source": [
    "### **Import required packages and functions**"
   ]
  },
  {
   "cell_type": "code",
   "execution_count": 1,
   "metadata": {
    "id": "-C-aQ51jWqHh"
   },
   "outputs": [],
   "source": [
    "import numpy as np\n",
    "import math\n",
    "import random\n",
    "from scipy import stats\n",
    "from sklearn.metrics import auc, precision_recall_curve\n",
    "from sklearn.model_selection import train_test_split\n",
    "import matplotlib.pyplot as plt\n",
    "\n",
    "import tensorflow as tf\n",
    "from tensorflow import keras\n",
    "from tensorflow.keras import layers, regularizers\n",
    "from tensorflow.keras.models import Model\n",
    "from tensorflow.keras.optimizers import Adam\n",
    "from tensorflow.keras.layers import Input, Dense, Conv1D, Flatten, MaxPooling1D\n"
   ]
  },
  {
   "cell_type": "markdown",
   "metadata": {
    "id": "4doTCiYrE_1K"
   },
   "source": [
    "### **Functions for reading, processing, and formatting data**"
   ]
  },
  {
   "cell_type": "code",
   "execution_count": 2,
   "metadata": {
    "id": "xKfRpxwB6YZq"
   },
   "outputs": [],
   "source": []
  },
  {
   "cell_type": "markdown",
   "metadata": {
    "id": "aa2dYi0UFIVc"
   },
   "source": [
    "### **Model #1: defining model**"
   ]
  },
  {
   "cell_type": "code",
   "execution_count": 3,
   "metadata": {
    "id": "QoJdHizy6eFa"
   },
   "outputs": [],
   "source": []
  },
  {
   "cell_type": "markdown",
   "metadata": {
    "id": "nMYn1Sm-FQei"
   },
   "source": [
    "### **Model #1: training model**"
   ]
  },
  {
   "cell_type": "code",
   "execution_count": 4,
   "metadata": {
    "id": "zNMqTG7I6gc-"
   },
   "outputs": [],
   "source": []
  },
  {
   "cell_type": "markdown",
   "metadata": {
    "id": "iVXPVWxxFUxR"
   },
   "source": [
    "### **Model #1: evaluating model**"
   ]
  },
  {
   "cell_type": "code",
   "execution_count": 5,
   "metadata": {
    "id": "FKk5W8VS6naR"
   },
   "outputs": [],
   "source": []
  },
  {
   "cell_type": "markdown",
   "metadata": {
    "id": "3VuZKJHIFY65"
   },
   "source": [
    "### **Model #2: defining model**"
   ]
  },
  {
   "cell_type": "code",
   "execution_count": null,
   "metadata": {
    "colab": {
     "base_uri": "https://localhost:8080/"
    },
    "id": "szy3LDWD6iiz",
    "outputId": "0a5af99c-2019-48eb-90e5-4050c8e3eb84"
   },
   "outputs": [],
   "source": []
  },
  {
   "cell_type": "markdown",
   "metadata": {
    "id": "ll4Wc2gdFjoT"
   },
   "source": [
    "### **Model #2: training model**"
   ]
  },
  {
   "cell_type": "code",
   "execution_count": null,
   "metadata": {
    "colab": {
     "base_uri": "https://localhost:8080/"
    },
    "id": "fLpVJU0O__WZ",
    "outputId": "76bb0dc7-86f2-4392-dc94-9b5bb265985b",
    "scrolled": true
   },
   "outputs": [],
   "source": []
  },
  {
   "cell_type": "markdown",
   "metadata": {
    "id": "TiH0fIL9Fqmn"
   },
   "source": [
    "### **Model #2: evaluating model**"
   ]
  },
  {
   "cell_type": "code",
   "execution_count": null,
   "metadata": {
    "colab": {
     "base_uri": "https://localhost:8080/",
     "height": 314
    },
    "id": "Vouo_XmVApaF",
    "outputId": "b1177bbb-733d-404c-a868-93223e491561"
   },
   "outputs": [],
   "source": []
  },
  {
   "cell_type": "markdown",
   "metadata": {
    "id": "3VuZKJHIFY65"
   },
   "source": [
    "### **Model #3: defining model**"
   ]
  },
  {
   "cell_type": "code",
   "execution_count": null,
   "metadata": {
    "colab": {
     "base_uri": "https://localhost:8080/"
    },
    "id": "szy3LDWD6iiz",
    "outputId": "0a5af99c-2019-48eb-90e5-4050c8e3eb84"
   },
   "outputs": [],
   "source": []
  },
  {
   "cell_type": "markdown",
   "metadata": {
    "id": "ll4Wc2gdFjoT"
   },
   "source": [
    "### **Model #3: training model**"
   ]
  },
  {
   "cell_type": "code",
   "execution_count": null,
   "metadata": {
    "colab": {
     "base_uri": "https://localhost:8080/"
    },
    "id": "fLpVJU0O__WZ",
    "outputId": "76bb0dc7-86f2-4392-dc94-9b5bb265985b",
    "scrolled": true
   },
   "outputs": [],
   "source": []
  },
  {
   "cell_type": "markdown",
   "metadata": {
    "id": "TiH0fIL9Fqmn"
   },
   "source": [
    "### **Model #3: evaluating model**"
   ]
  },
  {
   "cell_type": "markdown",
   "metadata": {},
   "source": []
  },
  {
   "cell_type": "markdown",
   "metadata": {
    "id": "3VuZKJHIFY65"
   },
   "source": [
    "### **Model #4: defining model**"
   ]
  },
  {
   "cell_type": "code",
   "execution_count": null,
   "metadata": {
    "colab": {
     "base_uri": "https://localhost:8080/"
    },
    "id": "szy3LDWD6iiz",
    "outputId": "0a5af99c-2019-48eb-90e5-4050c8e3eb84"
   },
   "outputs": [],
   "source": []
  },
  {
   "cell_type": "markdown",
   "metadata": {
    "id": "ll4Wc2gdFjoT"
   },
   "source": [
    "### **Model #4: training model**"
   ]
  },
  {
   "cell_type": "code",
   "execution_count": null,
   "metadata": {
    "colab": {
     "base_uri": "https://localhost:8080/"
    },
    "id": "fLpVJU0O__WZ",
    "outputId": "76bb0dc7-86f2-4392-dc94-9b5bb265985b",
    "scrolled": true
   },
   "outputs": [],
   "source": []
  },
  {
   "cell_type": "markdown",
   "metadata": {
    "id": "TiH0fIL9Fqmn"
   },
   "source": [
    "### **Model #4: evaluating model**"
   ]
  },
  {
   "cell_type": "code",
   "execution_count": null,
   "metadata": {},
   "outputs": [],
   "source": []
  }
 ],
 "metadata": {
  "colab": {
   "provenance": []
  },
  "kernelspec": {
   "display_name": "Python 3 (ipykernel)",
   "language": "python",
   "name": "python3"
  },
  "language_info": {
   "codemirror_mode": {
    "name": "ipython",
    "version": 3
   },
   "file_extension": ".py",
   "mimetype": "text/x-python",
   "name": "python",
   "nbconvert_exporter": "python",
   "pygments_lexer": "ipython3",
   "version": "3.8.13"
  }
 },
 "nbformat": 4,
 "nbformat_minor": 1
}
