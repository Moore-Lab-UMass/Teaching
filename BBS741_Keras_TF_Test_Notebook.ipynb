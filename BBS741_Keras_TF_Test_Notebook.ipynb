{
 "cells": [
  {
   "cell_type": "markdown",
   "metadata": {
    "id": "0oTIyPTwFx1o"
   },
   "source": [
    "### **Import required packages and functions**"
   ]
  },
  {
   "cell_type": "code",
   "execution_count": 9,
   "metadata": {
    "id": "-C-aQ51jWqHh"
   },
   "outputs": [],
   "source": [
    "import numpy as np\n",
    "import math\n",
    "import random\n",
    "from scipy import stats\n",
    "from sklearn.metrics import auc, precision_recall_curve\n",
    "from sklearn.model_selection import train_test_split\n",
    "import matplotlib.pyplot as plt\n",
    "\n",
    "import tensorflow as tf\n",
    "from tensorflow import keras\n",
    "from tensorflow.keras import layers, regularizers\n",
    "from tensorflow.keras.models import Model\n",
    "from tensorflow.keras.optimizers import Adam\n",
    "from tensorflow.keras.layers import Input, Dense, Conv1D, Flatten, MaxPooling1D\n"
   ]
  },
  {
   "cell_type": "markdown",
   "metadata": {
    "id": "4doTCiYrE_1K"
   },
   "source": [
    "### **Function for one hot encoding of DNA sequence**"
   ]
  },
  {
   "cell_type": "code",
   "execution_count": 2,
   "metadata": {
    "id": "xKfRpxwB6YZq"
   },
   "outputs": [],
   "source": [
    "def One_Hot_Encode(seq):\n",
    "    baseDict = {\"A\":0, \"C\":1, \"G\":2, \"T\":3}\n",
    "    oneHotArray = []\n",
    "    seq = seq.upper()\n",
    "    seqArray = np.array(list(seq))\n",
    "    for base in seqArray:\n",
    "        code = [0, 0, 0, 0]\n",
    "        if base in baseDict:\n",
    "            code[baseDict[base]] = 1\n",
    "        else:\n",
    "            code = [0.25, 0.25, 0.25, 0.25]\n",
    "        oneHotArray.append(code)\n",
    "    return oneHotArray"
   ]
  },
  {
   "cell_type": "markdown",
   "metadata": {
    "id": "aa2dYi0UFIVc"
   },
   "source": [
    "### **Function for processing FASTA sequence files**"
   ]
  },
  {
   "cell_type": "code",
   "execution_count": 3,
   "metadata": {
    "id": "QoJdHizy6eFa"
   },
   "outputs": [],
   "source": [
    "def Process_Sequences(fasta):\n",
    "    elementList = [next(fasta).lstrip(\">\").rstrip()]\n",
    "    inputData = []\n",
    "    seq=''\n",
    "    for line in fasta:\n",
    "        if \">\" not in line:\n",
    "            seq += line.rstrip()\n",
    "        else:\n",
    "            inputData.append(One_Hot_Encode(seq))\n",
    "            elementList.append(line.lstrip(\">\"))\n",
    "            seq=''\n",
    "    inputData.append(One_Hot_Encode(seq))\n",
    "    inputData = np.array(inputData)\n",
    "    inputData = inputData.reshape(inputData.shape[0], 200, 4)\n",
    "    return elementList, inputData"
   ]
  },
  {
   "cell_type": "markdown",
   "metadata": {
    "id": "nMYn1Sm-FQei"
   },
   "source": [
    "### **Function for processing labels**"
   ]
  },
  {
   "cell_type": "code",
   "execution_count": 4,
   "metadata": {
    "id": "zNMqTG7I6gc-"
   },
   "outputs": [],
   "source": [
    "def Process_Labels(labels):\n",
    "    labArray = []\n",
    "    for line in labels:\n",
    "        line = line.rstrip().split(\"\\t\")\n",
    "        labArray.append(float(line[1]))\n",
    "    labArray = np.array(labArray)\n",
    "    labArray = labArray.reshape(labArray.shape[0],1)\n",
    "    return labArray"
   ]
  },
  {
   "cell_type": "markdown",
   "metadata": {
    "id": "iVXPVWxxFUxR"
   },
   "source": [
    "### **Function creating CNN model**"
   ]
  },
  {
   "cell_type": "code",
   "execution_count": 5,
   "metadata": {
    "id": "FKk5W8VS6naR"
   },
   "outputs": [],
   "source": [
    "def Create_CNN_model(seqLength):\n",
    "\n",
    "    inputSeq = Input(shape=(seqLength,4), name=\"Input\")\n",
    "     \n",
    "    x = Conv1D(filters=8, kernel_size=10, strides=1, activation=\"relu\", name=\"Conv1D-1\")(inputSeq)\n",
    "    x = MaxPooling1D(pool_size=4, name=\"MaxPool-1\")(x)\n",
    "    x = Flatten(name=\"Flatten-1\")(x)\n",
    "    x = Dense(8, activation=\"relu\", name=\"Dense-1\")(x)\n",
    "    \n",
    "    output = Dense(1, activation=\"sigmoid\", name=\"Output\")(x)\n",
    "\n",
    "    model = Model(inputs=inputSeq, outputs=output)\n",
    "    model.compile(optimizer=Adam(.001), loss=\"binary_crossentropy\", metrics=[\"accuracy\"])\n",
    "    model.summary()\n",
    "    return model\n"
   ]
  },
  {
   "cell_type": "markdown",
   "metadata": {
    "id": "3VuZKJHIFY65"
   },
   "source": [
    "### **Read in sequences and labels and split into train and test sets**"
   ]
  },
  {
   "cell_type": "code",
   "execution_count": 6,
   "metadata": {
    "colab": {
     "base_uri": "https://localhost:8080/"
    },
    "id": "szy3LDWD6iiz",
    "outputId": "0a5af99c-2019-48eb-90e5-4050c8e3eb84"
   },
   "outputs": [
    {
     "name": "stdout",
     "output_type": "stream",
     "text": [
      "Finished processing data ...\n"
     ]
    }
   ],
   "source": [
    "seqLength = 200\n",
    "\n",
    "fasta = open(\"TF-Test.fa\")\n",
    "ccres, features = Process_Sequences(fasta)\n",
    "fasta.close()\n",
    "\n",
    "labels = open(\"TF-Test.Labels.txt\")\n",
    "labArray = Process_Labels(labels)\n",
    "labels.close()\n",
    "\n",
    "xtrain, xtest, ytrain, ytest = train_test_split(features, labArray, test_size=0.15)\n",
    "print(\"Finished processing data ...\")"
   ]
  },
  {
   "cell_type": "markdown",
   "metadata": {
    "id": "ll4Wc2gdFjoT"
   },
   "source": [
    "### **Train CNN model**"
   ]
  },
  {
   "cell_type": "code",
   "execution_count": 7,
   "metadata": {
    "colab": {
     "base_uri": "https://localhost:8080/"
    },
    "id": "fLpVJU0O__WZ",
    "outputId": "76bb0dc7-86f2-4392-dc94-9b5bb265985b"
   },
   "outputs": [
    {
     "name": "stdout",
     "output_type": "stream",
     "text": [
      "Model: \"model\"\n",
      "_________________________________________________________________\n",
      " Layer (type)                Output Shape              Param #   \n",
      "=================================================================\n",
      " Input (InputLayer)          [(None, 200, 4)]          0         \n",
      "                                                                 \n",
      " Conv1D-1 (Conv1D)           (None, 191, 8)            328       \n",
      "                                                                 \n",
      " MaxPool-1 (MaxPooling1D)    (None, 47, 8)             0         \n",
      "                                                                 \n",
      " Flatten-1 (Flatten)         (None, 376)               0         \n",
      "                                                                 \n",
      " Dense-1 (Dense)             (None, 8)                 3016      \n",
      "                                                                 \n",
      " Output (Dense)              (None, 1)                 9         \n",
      "                                                                 \n",
      "=================================================================\n",
      "Total params: 3,353\n",
      "Trainable params: 3,353\n",
      "Non-trainable params: 0\n",
      "_________________________________________________________________\n",
      "Epoch 1/10\n"
     ]
    },
    {
     "name": "stderr",
     "output_type": "stream",
     "text": [
      "2022-11-16 19:26:44.120004: I tensorflow/core/platform/cpu_feature_guard.cc:193] This TensorFlow binary is optimized with oneAPI Deep Neural Network Library (oneDNN) to use the following CPU instructions in performance-critical operations:  SSE4.1 SSE4.2 AVX AVX2 FMA\n",
      "To enable them in other operations, rebuild TensorFlow with the appropriate compiler flags.\n"
     ]
    },
    {
     "name": "stdout",
     "output_type": "stream",
     "text": [
      "850/850 [==============================] - 1s 1ms/step - loss: 0.6965 - accuracy: 0.4988\n",
      "Epoch 2/10\n",
      "850/850 [==============================] - 1s 961us/step - loss: 0.6555 - accuracy: 0.6176\n",
      "Epoch 3/10\n",
      "850/850 [==============================] - 1s 946us/step - loss: 0.5267 - accuracy: 0.7576\n",
      "Epoch 4/10\n",
      "850/850 [==============================] - 1s 968us/step - loss: 0.4297 - accuracy: 0.8059\n",
      "Epoch 5/10\n",
      "850/850 [==============================] - 1s 935us/step - loss: 0.3623 - accuracy: 0.8506\n",
      "Epoch 6/10\n",
      "850/850 [==============================] - 1s 923us/step - loss: 0.3009 - accuracy: 0.8835\n",
      "Epoch 7/10\n",
      "850/850 [==============================] - 1s 953us/step - loss: 0.2525 - accuracy: 0.8976\n",
      "Epoch 8/10\n",
      "850/850 [==============================] - 1s 924us/step - loss: 0.2044 - accuracy: 0.9271\n",
      "Epoch 9/10\n",
      "850/850 [==============================] - 1s 967us/step - loss: 0.1534 - accuracy: 0.9541\n",
      "Epoch 10/10\n",
      "850/850 [==============================] - 1s 968us/step - loss: 0.1379 - accuracy: 0.9553\n"
     ]
    },
    {
     "data": {
      "text/plain": [
       "<keras.callbacks.History at 0x15136dc40>"
      ]
     },
     "execution_count": 7,
     "metadata": {},
     "output_type": "execute_result"
    }
   ],
   "source": [
    "model = Create_CNN_model(seqLength)\n",
    "model.fit(x=xtrain, y=ytrain, epochs=10, verbose=1, batch_size=1)"
   ]
  },
  {
   "cell_type": "markdown",
   "metadata": {
    "id": "TiH0fIL9Fqmn"
   },
   "source": [
    "### **Evaluate model and calculate AUPR**"
   ]
  },
  {
   "cell_type": "code",
   "execution_count": 8,
   "metadata": {
    "colab": {
     "base_uri": "https://localhost:8080/",
     "height": 314
    },
    "id": "Vouo_XmVApaF",
    "outputId": "b1177bbb-733d-404c-a868-93223e491561"
   },
   "outputs": [
    {
     "name": "stdout",
     "output_type": "stream",
     "text": [
      "5/5 [==============================] - 0s 2ms/step\n",
      "0.8809917389685212\n"
     ]
    },
    {
     "data": {
      "image/png": "[encoded data removed]",
      "text/plain": [
       "<Figure size 640x480 with 1 Axes>"
      ]
     },
     "metadata": {},
     "output_type": "display_data"
    }
   ],
   "source": [
    "ypred = model.predict(xtest)\n",
    "\n",
    "precision, recall, _ = precision_recall_curve(ytest, ypred)\n",
    "auc_precision_recall = auc(recall, precision)\n",
    "print(auc_precision_recall)\n",
    "plt.plot(recall, precision, marker='.', label='basic CNN')\n",
    "plt.xlabel('Recall')\n",
    "plt.ylabel('Precision')\n",
    "# show the legend\n",
    "plt.legend()\n",
    "# show the plot\n",
    "plt.show()"
   ]
  },
  {
   "cell_type": "code",
   "execution_count": null,
   "metadata": {},
   "outputs": [],
   "source": []
  }
 ],
 "metadata": {
  "colab": {
   "provenance": []
  },
  "kernelspec": {
   "display_name": "Python 3 (ipykernel)",
   "language": "python",
   "name": "python3"
  },
  "language_info": {
   "codemirror_mode": {
    "name": "ipython",
    "version": 3
   },
   "file_extension": ".py",
   "mimetype": "text/x-python",
   "name": "python",
   "nbconvert_exporter": "python",
   "pygments_lexer": "ipython3",
   "version": "3.9.12"
  }
 },
 "nbformat": 4,
 "nbformat_minor": 1
}
