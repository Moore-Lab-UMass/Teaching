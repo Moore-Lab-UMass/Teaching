{
  "nbformat": 4,
  "nbformat_minor": 0,
  "metadata": {
    "colab": {
      "provenance": [],
      "authorship_tag": "ABX9TyPMHRAYxlxtlWf3g2Iqoc5s",
      "include_colab_link": true
    },
    "kernelspec": {
      "name": "python3",
      "display_name": "Python 3"
    },
    "language_info": {
      "name": "python"
    }
  },
  "cells": [
    {
      "cell_type": "markdown",
      "metadata": {
        "id": "view-in-github",
        "colab_type": "text"
      },
      "source": [
        "<a href=\"https://colab.research.google.com/github/Moore-Lab-UMass/Teaching/blob/main/BBS741_Basic_CNN_Classification.ipynb\" target=\"_parent\"><img src=\"https://colab.research.google.com/assets/colab-badge.svg\" alt=\"Open In Colab\"/></a>"
      ]
    },
    {
      "cell_type": "markdown",
      "source": [
        "### **Import required packages and functions**"
      ],
      "metadata": {
        "id": "0oTIyPTwFx1o"
      }
    },
    {
      "cell_type": "code",
      "execution_count": 23,
      "metadata": {
        "id": "-C-aQ51jWqHh"
      },
      "outputs": [],
      "source": [
        "import numpy as np\n",
        "import math\n",
        "import random\n",
        "from scipy import stats\n",
        "from sklearn.metrics import auc, precision_recall_curve\n",
        "from sklearn.model_selection import train_test_split\n",
        "import matplotlib.pyplot as plt\n",
        "\n",
        "import tensorflow as tf\n",
        "from tensorflow import keras\n",
        "from tensorflow.keras import layers, regularizers\n",
        "from tensorflow.keras.models import Model\n",
        "from tensorflow.keras.optimizers import Adam\n",
        "from tensorflow.keras.layers import Input, Dense, Conv1D, Flatten, MaxPooling1D\n"
      ]
    },
    {
      "cell_type": "markdown",
      "source": [
        "### **Download sequence and label files**"
      ],
      "metadata": {
        "id": "WAvCUeTDEzhr"
      }
    },
    {
      "cell_type": "code",
      "source": [
        "!wget http://users.wenglab.org/moorej3/Teaching/BBS-741/TF-Test.fa\n",
        "!wget http://users.wenglab.org/moorej3/Teaching/BBS-741/TF-Test.Labels.txt"
      ],
      "metadata": {
        "colab": {
          "base_uri": "https://localhost:8080/"
        },
        "id": "FyL7VeLF-t2G",
        "outputId": "9049bbf6-d755-454c-f4cb-69973bd80082"
      },
      "execution_count": 3,
      "outputs": [
        {
          "output_type": "stream",
          "name": "stdout",
          "text": [
            "--2022-11-01 16:20:31--  http://users.wenglab.org/moorej3/Teaching/BBS-741/TF-Test.fa\n",
            "Resolving users.wenglab.org (users.wenglab.org)... 205.172.168.60\n",
            "Connecting to users.wenglab.org (users.wenglab.org)|205.172.168.60|:80... connected.\n",
            "HTTP request sent, awaiting response... 200 OK\n",
            "Length: 231284 (226K) [application/octet-stream]\n",
            "Saving to: ‘TF-Test.fa’\n",
            "\n",
            "TF-Test.fa          100%[===================>] 225.86K   385KB/s    in 0.6s    \n",
            "\n",
            "2022-11-01 16:20:32 (385 KB/s) - ‘TF-Test.fa’ saved [231284/231284]\n",
            "\n",
            "--2022-11-01 16:20:32--  http://users.wenglab.org/moorej3/Teaching/BBS-741/TF-Test.Labels.txt\n",
            "Resolving users.wenglab.org (users.wenglab.org)... 205.172.168.60\n",
            "Connecting to users.wenglab.org (users.wenglab.org)|205.172.168.60|:80... connected.\n",
            "HTTP request sent, awaiting response... 200 OK\n",
            "Length: 7500 (7.3K) [text/plain]\n",
            "Saving to: ‘TF-Test.Labels.txt’\n",
            "\n",
            "TF-Test.Labels.txt  100%[===================>]   7.32K  --.-KB/s    in 0s      \n",
            "\n",
            "2022-11-01 16:20:32 (616 MB/s) - ‘TF-Test.Labels.txt’ saved [7500/7500]\n",
            "\n"
          ]
        }
      ]
    },
    {
      "cell_type": "markdown",
      "source": [
        "### **Function for one hot encoding of DNA sequence**"
      ],
      "metadata": {
        "id": "4doTCiYrE_1K"
      }
    },
    {
      "cell_type": "code",
      "source": [
        "def One_Hot_Encode(seq):\n",
        "    baseDict = {\"A\":0, \"C\":1, \"G\":2, \"T\":3}\n",
        "    oneHotArray = []\n",
        "    seq = seq.upper()\n",
        "    seqArray = np.array(list(seq))\n",
        "    for base in seqArray:\n",
        "        code = [0, 0, 0, 0]\n",
        "        if base in baseDict:\n",
        "            code[baseDict[base]] = 1\n",
        "        else:\n",
        "            code = [0.25, 0.25, 0.25, 0.25]\n",
        "        oneHotArray.append(code)\n",
        "    return oneHotArray"
      ],
      "metadata": {
        "id": "xKfRpxwB6YZq"
      },
      "execution_count": 4,
      "outputs": []
    },
    {
      "cell_type": "markdown",
      "source": [
        "### **Function for processing FASTA sequence files**"
      ],
      "metadata": {
        "id": "aa2dYi0UFIVc"
      }
    },
    {
      "cell_type": "code",
      "source": [
        "def Process_Sequences(fasta):\n",
        "    elementList = [next(fasta).lstrip(\">\").rstrip()]\n",
        "    inputData = []\n",
        "    seq=''\n",
        "    for line in fasta:\n",
        "        if \">\" not in line:\n",
        "            seq += line.rstrip()\n",
        "        else:\n",
        "            inputData.append(One_Hot_Encode(seq))\n",
        "            elementList.append(line.lstrip(\">\"))\n",
        "            seq=''\n",
        "    inputData.append(One_Hot_Encode(seq))\n",
        "    inputData = np.array(inputData)\n",
        "    inputData = inputData.reshape(inputData.shape[0], 200, 4)\n",
        "    return elementList, inputData"
      ],
      "metadata": {
        "id": "QoJdHizy6eFa"
      },
      "execution_count": 6,
      "outputs": []
    },
    {
      "cell_type": "markdown",
      "source": [
        "### **Function for processing labels**"
      ],
      "metadata": {
        "id": "nMYn1Sm-FQei"
      }
    },
    {
      "cell_type": "code",
      "source": [
        "def Process_Labels(labels):\n",
        "    labArray = []\n",
        "    for line in labels:\n",
        "        line = line.rstrip().split(\"\\t\")\n",
        "        labArray.append(float(line[1]))\n",
        "    labArray = np.array(labArray)\n",
        "    labArray = labArray.reshape(labArray.shape[0],1)\n",
        "    return labArray"
      ],
      "metadata": {
        "id": "zNMqTG7I6gc-"
      },
      "execution_count": 7,
      "outputs": []
    },
    {
      "cell_type": "markdown",
      "source": [
        "### **Function creating CNN model**"
      ],
      "metadata": {
        "id": "iVXPVWxxFUxR"
      }
    },
    {
      "cell_type": "code",
      "source": [
        "def Create_CNN_model(seqLength):\n",
        "\n",
        "    inputSeq = Input(shape=(seqLength,4), name=\"Input\")\n",
        "     \n",
        "    x = Conv1D(filters=8, kernel_size=10, activation=\"relu\", name=\"Conv1D-1\")(inputSeq)\n",
        "    x = MaxPooling1D(pool_size=4, strides=4, name=\"MaxPool-1\")(x)\n",
        "    x = Flatten(name=\"Flatten-1\")(x)\n",
        "    x = Dense(8, activation=\"relu\", name=\"Dense-1\")(x)\n",
        "    \n",
        "    output = Dense(1, activation=\"sigmoid\", name=\"Output\")(x)\n",
        "\n",
        "    model = Model(inputs=inputSeq, outputs=output)\n",
        "    model.compile(optimizer=Adam(.001), loss=\"binary_crossentropy\", metrics=[\"accuracy\"])\n",
        "    model.summary()\n",
        "    return model\n"
      ],
      "metadata": {
        "id": "FKk5W8VS6naR"
      },
      "execution_count": 42,
      "outputs": []
    },
    {
      "cell_type": "markdown",
      "source": [
        "### **Read in sequences and labels and split into train and test sets**"
      ],
      "metadata": {
        "id": "3VuZKJHIFY65"
      }
    },
    {
      "cell_type": "code",
      "source": [
        "seqLength = 200\n",
        "\n",
        "fasta = open(\"TF-Test.fa\")\n",
        "ccres, features = Process_Sequences(fasta)\n",
        "fasta.close()\n",
        "\n",
        "labels = open(\"TF-Test.Labels.txt\")\n",
        "labArray = Process_Labels(labels)\n",
        "labels.close()\n",
        "\n",
        "xtrain, xtest, ytrain, ytest = train_test_split(features, labArray, test_size=0.15)\n",
        "print(\"Finished processing data ...\")"
      ],
      "metadata": {
        "colab": {
          "base_uri": "https://localhost:8080/"
        },
        "id": "szy3LDWD6iiz",
        "outputId": "48e1bd13-c630-4de3-bb9c-c7937130fb46"
      },
      "execution_count": 10,
      "outputs": [
        {
          "output_type": "stream",
          "name": "stdout",
          "text": [
            "Finished processing data ...\n"
          ]
        }
      ]
    },
    {
      "cell_type": "markdown",
      "source": [
        "### **Train CNN model**"
      ],
      "metadata": {
        "id": "ll4Wc2gdFjoT"
      }
    },
    {
      "cell_type": "code",
      "source": [
        "model = Create_CNN_model(seqLength)\n",
        "model.fit(x=xtrain, y=ytrain, epochs=10, verbose=1, batch_size=1)"
      ],
      "metadata": {
        "colab": {
          "base_uri": "https://localhost:8080/"
        },
        "id": "fLpVJU0O__WZ",
        "outputId": "97fab8c8-201c-4c1d-99a5-af87cadf7305"
      },
      "execution_count": 43,
      "outputs": [
        {
          "output_type": "stream",
          "name": "stdout",
          "text": [
            "Model: \"model_10\"\n",
            "_________________________________________________________________\n",
            " Layer (type)                Output Shape              Param #   \n",
            "=================================================================\n",
            " Input (InputLayer)          [(None, 200, 4)]          0         \n",
            "                                                                 \n",
            " Conv1D-1 (Conv1D)           (None, 191, 8)            328       \n",
            "                                                                 \n",
            " MaxPool-1 (MaxPooling1D)    (None, 47, 8)             0         \n",
            "                                                                 \n",
            " Flatten-1 (Flatten)         (None, 376)               0         \n",
            "                                                                 \n",
            " Dense-1 (Dense)             (None, 8)                 3016      \n",
            "                                                                 \n",
            " Output (Dense)              (None, 1)                 9         \n",
            "                                                                 \n",
            "=================================================================\n",
            "Total params: 3,353\n",
            "Trainable params: 3,353\n",
            "Non-trainable params: 0\n",
            "_________________________________________________________________\n",
            "Epoch 1/10\n",
            "850/850 [==============================] - 2s 2ms/step - loss: 0.6906 - accuracy: 0.5494\n",
            "Epoch 2/10\n",
            "850/850 [==============================] - 2s 2ms/step - loss: 0.6033 - accuracy: 0.6835\n",
            "Epoch 3/10\n",
            "850/850 [==============================] - 2s 2ms/step - loss: 0.4620 - accuracy: 0.7882\n",
            "Epoch 4/10\n",
            "850/850 [==============================] - 2s 2ms/step - loss: 0.3776 - accuracy: 0.8400\n",
            "Epoch 5/10\n",
            "850/850 [==============================] - 2s 2ms/step - loss: 0.3049 - accuracy: 0.8812\n",
            "Epoch 6/10\n",
            "850/850 [==============================] - 2s 2ms/step - loss: 0.2491 - accuracy: 0.9000\n",
            "Epoch 7/10\n",
            "850/850 [==============================] - 2s 2ms/step - loss: 0.2052 - accuracy: 0.9247\n",
            "Epoch 8/10\n",
            "850/850 [==============================] - 2s 2ms/step - loss: 0.1787 - accuracy: 0.9412\n",
            "Epoch 9/10\n",
            "850/850 [==============================] - 2s 2ms/step - loss: 0.1377 - accuracy: 0.9494\n",
            "Epoch 10/10\n",
            "850/850 [==============================] - 2s 2ms/step - loss: 0.1164 - accuracy: 0.9647\n"
          ]
        },
        {
          "output_type": "execute_result",
          "data": {
            "text/plain": [
              "<keras.callbacks.History at 0x7f325edffe50>"
            ]
          },
          "metadata": {},
          "execution_count": 43
        }
      ]
    },
    {
      "cell_type": "markdown",
      "source": [
        "### **Evaluate model and calculate AUPR**"
      ],
      "metadata": {
        "id": "TiH0fIL9Fqmn"
      }
    },
    {
      "cell_type": "code",
      "source": [
        "ypred = model.predict(xtest)\n",
        "\n",
        "precision, recall, _ = precision_recall_curve(ytest, ypred)\n",
        "auc_precision_recall = auc(recall, precision)\n",
        "print(auc_precision_recall)\n",
        "plt.plot(recall, precision, marker='.', label='basic CNN')\n",
        "plt.xlabel('Recall')\n",
        "plt.ylabel('Precision')\n",
        "# show the legend\n",
        "plt.legend()\n",
        "# show the plot\n",
        "plt.show()"
      ],
      "metadata": {
        "colab": {
          "base_uri": "https://localhost:8080/",
          "height": 314
        },
        "id": "Vouo_XmVApaF",
        "outputId": "f005b3b7-d608-4cdf-e4b4-610fbfca5272"
      },
      "execution_count": 44,
      "outputs": [
        {
          "output_type": "stream",
          "name": "stdout",
          "text": [
            "5/5 [==============================] - 0s 3ms/step\n",
            "0.8918715883811796\n"
          ]
        },
        {
          "output_type": "display_data",
          "data": {
            "text/plain": [
              "<Figure size 432x288 with 1 Axes>"
            ],
            "image/png": "[encoded data removed]"
          },
          "metadata": {
            "needs_background": "light"
          }
        }
      ]
    }
  ]
}